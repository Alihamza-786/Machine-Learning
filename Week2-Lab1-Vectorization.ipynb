{
 "cells": [
  {
   "cell_type": "code",
   "execution_count": 2,
   "id": "e0b35c62-0948-43b4-9653-2559fde59768",
   "metadata": {},
   "outputs": [],
   "source": [
    "import numpy as np\n",
    "import time"
   ]
  },
  {
   "cell_type": "code",
   "execution_count": 4,
   "id": "761c2703-5388-479d-82cf-f7131fe0f851",
   "metadata": {},
   "outputs": [
    {
     "name": "stdout",
     "output_type": "stream",
     "text": [
      " np.zeros(4): a = [0. 0. 0. 0.], a shape =(4,), a data type = float64\n",
      " np.zeros(4): a = [0. 0. 0. 0.], a shape =(4,), a data type = float64\n",
      "random sample a = [0.67647406 0.92334082 0.61307734 0.26200999], a shape =(4,), a data type = float64\n"
     ]
    }
   ],
   "source": [
    "a = np.zeros(4);                    print(f\" np.zeros(4): a = {a}, a shape ={a.shape}, a data type = {a.dtype}\")\n",
    "a = np.zeros((4,));                 print(f\" np.zeros(4): a = {a}, a shape ={a.shape}, a data type = {a.dtype}\")\n",
    "a = np.random.random_sample(4);     print(f\"random sample a = {a}, a shape ={a.shape}, a data type = {a.dtype}\")"
   ]
  },
  {
   "cell_type": "code",
   "execution_count": 20,
   "id": "7bd4fcd1-b499-40c5-a26f-02119b9bb604",
   "metadata": {},
   "outputs": [
    {
     "name": "stdout",
     "output_type": "stream",
     "text": [
      "[0 1 2 3 4 5 6 7 8 9]\n",
      "a[2].shape: () a[2] = 2, accessing an element returns a scalar\n",
      "a[-1] = 9\n",
      "The error message you'll see is:\n",
      "index 10 is out of bounds for axis 0 with size 10\n"
     ]
    }
   ],
   "source": [
    "#vector indexing operations on 1-D vectors\n",
    "a = np.arange(10)\n",
    "print(a)\n",
    "#print an element\n",
    "\n",
    "print(f\"a[2].shape: {a[2].shape} a[2] = {a[2]}, accessing an element returns a scalar\")\n",
    "#access last element\n",
    "print(f\"a[-1] = {a[-1]}\")\n",
    "\n",
    "try:\n",
    "    c = a[10]\n",
    "except Exception as e:\n",
    "    print(\"The error message you'll see is:\")\n",
    "    print(e)\n",
    "    "
   ]
  },
  {
   "cell_type": "code",
   "execution_count": 22,
   "id": "b26c143e-bcb8-4ab8-b910-69f4aab8555a",
   "metadata": {},
   "outputs": [
    {
     "name": "stdout",
     "output_type": "stream",
     "text": [
      " a        : [1 2 3 4]\n",
      " b        : [-1 -2 -3 -4]\n",
      "np.sum(a) : 10\n",
      " np.mean(a) : 2.5\n",
      "a**2       :[ 1  4  9 16]\n"
     ]
    }
   ],
   "source": [
    "#sing vectoror operations\n",
    "a = np.array([1,2,3,4])\n",
    "print(f\" a        : {a}\")\n",
    "\n",
    "#negate element of a\n",
    "b = -a\n",
    "print(f\" b        : {b}\")\n",
    "\n",
    "#sum all elements of a, returns a scalar\n",
    "b = np.sum(a)\n",
    "print(f\"np.sum(a) : {b}\")\n",
    "\n",
    "b = np.mean(a)\n",
    "print(f\" np.mean(a) : {b}\")\n",
    "\n",
    "b = a**2\n",
    "print(f\"a**2       :{b}\")"
   ]
  },
  {
   "cell_type": "code",
   "execution_count": 25,
   "id": "9156745e-0a00-4039-bb4c-7fafc35f570c",
   "metadata": {},
   "outputs": [
    {
     "name": "stdout",
     "output_type": "stream",
     "text": [
      "Binary operators work element-wise : [0 0 6 8]\n"
     ]
    }
   ],
   "source": [
    "#vector - vector element-vise operations\n",
    "a = np.array([1,2,3,4])\n",
    "b = np.array([-1,-2,3,4])\n",
    "print(f\"Binary operators work element-wise : {a+b}\")"
   ]
  },
  {
   "cell_type": "code",
   "execution_count": 26,
   "id": "18fe2575-0420-488b-917a-bdadecf0a159",
   "metadata": {},
   "outputs": [
    {
     "name": "stdout",
     "output_type": "stream",
     "text": [
      "The error message you'll see is:\n",
      "operands could not be broadcast together with shapes (4,) (2,) \n"
     ]
    }
   ],
   "source": [
    "#try a mismatched vector operation\n",
    "c = np.array([1, 2])\n",
    "try:\n",
    "    d = a + c\n",
    "except Exception as e:\n",
    "    print(\"The error message you'll see is:\")\n",
    "    print(e)"
   ]
  },
  {
   "cell_type": "code",
   "execution_count": 27,
   "id": "f5d8b596-4c55-4b82-a94c-d96acea41fcd",
   "metadata": {},
   "outputs": [
    {
     "name": "stdout",
     "output_type": "stream",
     "text": [
      "[ 5 10 15 20]\n"
     ]
    }
   ],
   "source": [
    "a = np.array([1,2,3,4])\n",
    "#multiply a by a scalar\n",
    "b = 5 * a\n",
    "print(b)"
   ]
  },
  {
   "cell_type": "code",
   "execution_count": 34,
   "id": "02a1c5d8-cea8-455b-a3bd-021f963eb9b5",
   "metadata": {},
   "outputs": [],
   "source": [
    "#dot product\n",
    "def my_dot(a,b):\n",
    "    x =0\n",
    "    for i in range(a.shape[0]):\n",
    "        x = x + a[i] * b[i]\n",
    "    return x"
   ]
  },
  {
   "cell_type": "code",
   "execution_count": 35,
   "id": "a8513174-93f3-45f2-a301-fe6f62f87d0c",
   "metadata": {},
   "outputs": [
    {
     "name": "stdout",
     "output_type": "stream",
     "text": [
      "my_dot(a,b) : 24\n"
     ]
    }
   ],
   "source": [
    "#test 1-D\n",
    "a = np.array([1,2,3,4])\n",
    "b = np.array([-1,4,3,2])\n",
    "print(f\"my_dot(a,b) : {my_dot(a,b)}\")"
   ]
  },
  {
   "cell_type": "code",
   "execution_count": 36,
   "id": "25d6fe02-b56c-4dc6-8183-79940cb07fc0",
   "metadata": {},
   "outputs": [
    {
     "name": "stdout",
     "output_type": "stream",
     "text": [
      "np.dot(a,b) : 24,  shape is : ()\n",
      "np.dot(b,a) : 24,  shape is : ()\n"
     ]
    }
   ],
   "source": [
    "#test using np.dot\n",
    "a = np.array([1,2,3,4])\n",
    "b = np.array([-1,4,3,2])\n",
    "c = np.dot(a,b)\n",
    "print(f\"np.dot(a,b) : {c},  shape is : {c.shape}\")\n",
    "c = np.dot(b,a)\n",
    "print(f\"np.dot(b,a) : {c},  shape is : {c.shape}\")"
   ]
  },
  {
   "cell_type": "code",
   "execution_count": 38,
   "id": "aa92c29d-6b7c-4395-a56d-10005d3ce5b1",
   "metadata": {},
   "outputs": [
    {
     "name": "stdout",
     "output_type": "stream",
     "text": [
      "np.dot(a,b) = 2501072.5817\n",
      "Vectorized version duration: 15.5492 ms \n",
      "my_dot(a,b) = 2501072.5817\n",
      "loop version duration : 1712.6758ms\n"
     ]
    }
   ],
   "source": [
    "#Need for speed: vector vs loop\n",
    "np.random.seed(1)\n",
    "a = np.random.rand(10000000) #very large array\n",
    "b = np.random.rand(10000000)\n",
    "tic = time.time() #capture start time\n",
    "c = np.dot(a,b)\n",
    "toc = time.time() #capture end time\n",
    "print(f\"np.dot(a,b) = {c:.4f}\")\n",
    "print(f\"Vectorized version duration: {1000*(toc-tic):.4f} ms \")\n",
    "\n",
    "tic = time.time()\n",
    "c=my_dot(a,b)\n",
    "toc = time.time()\n",
    "\n",
    "print(f\"my_dot(a,b) = {c:.4f}\")\n",
    "print(f\"loop version duration : {1000 * (toc-tic):.4f}ms\")"
   ]
  },
  {
   "cell_type": "code",
   "execution_count": 42,
   "id": "4a7fbf19-a7bd-4d86-a17e-802c3ef5ecfa",
   "metadata": {},
   "outputs": [
    {
     "name": "stdout",
     "output_type": "stream",
     "text": [
      "X has shape (4, 1)\n",
      "X[1] has shape (1,)\n",
      "w has shape (1,)\n",
      "c has shape ()\n"
     ]
    }
   ],
   "source": [
    "X = np.array([[1],[2],[3],[4]])\n",
    "w = np.array([2])\n",
    "c = np.dot(X[1],w)\n",
    "print(f\"X has shape {X.shape}\")\n",
    "print(f\"X[1] has shape {X[1].shape}\")\n",
    "print(f\"w has shape {w.shape}\")\n",
    "print(f\"c has shape {c.shape}\")"
   ]
  },
  {
   "cell_type": "code",
   "execution_count": null,
   "id": "ed54fce2-46c4-48a5-97f5-dbff7939c3d1",
   "metadata": {},
   "outputs": [],
   "source": []
  }
 ],
 "metadata": {
  "kernelspec": {
   "display_name": "Python 3 (ipykernel)",
   "language": "python",
   "name": "python3"
  },
  "language_info": {
   "codemirror_mode": {
    "name": "ipython",
    "version": 3
   },
   "file_extension": ".py",
   "mimetype": "text/x-python",
   "name": "python",
   "nbconvert_exporter": "python",
   "pygments_lexer": "ipython3",
   "version": "3.12.4"
  }
 },
 "nbformat": 4,
 "nbformat_minor": 5
}
